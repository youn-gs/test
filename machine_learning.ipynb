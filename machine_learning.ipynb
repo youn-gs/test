{
  "nbformat": 4,
  "nbformat_minor": 0,
  "metadata": {
    "colab": {
      "name": "machine learning.ipynb",
      "provenance": [],
      "collapsed_sections": [],
      "authorship_tag": "ABX9TyNEKQmIdls/d9ssm08HkVsl",
      "include_colab_link": true
    },
    "kernelspec": {
      "name": "python3",
      "display_name": "Python 3"
    }
  },
  "cells": [
    {
      "cell_type": "markdown",
      "metadata": {
        "id": "view-in-github",
        "colab_type": "text"
      },
      "source": [
        "<a href=\"https://colab.research.google.com/github/youn-gs/test/blob/master/machine_learning.ipynb\" target=\"_parent\"><img src=\"https://colab.research.google.com/assets/colab-badge.svg\" alt=\"Open In Colab\"/></a>"
      ]
    },
    {
      "cell_type": "markdown",
      "metadata": {
        "id": "jTMR9sLQdDUw",
        "colab_type": "text"
      },
      "source": [
        "20134485 윤경식"
      ]
    },
    {
      "cell_type": "code",
      "metadata": {
        "id": "bVbhkOQIdGX0",
        "colab_type": "code",
        "outputId": "54d1eea9-1144-436f-c0cb-749ff1d1383e",
        "colab": {
          "base_uri": "https://localhost:8080/",
          "height": 104
        }
      },
      "source": [
        "!git clone https://github.com/youn-gs/test.git"
      ],
      "execution_count": 0,
      "outputs": [
        {
          "output_type": "stream",
          "text": [
            "Cloning into 'test'...\n",
            "remote: Enumerating objects: 3, done.\u001b[K\n",
            "remote: Counting objects:  33% (1/3)\u001b[K\rremote: Counting objects:  66% (2/3)\u001b[K\rremote: Counting objects: 100% (3/3)\u001b[K\rremote: Counting objects: 100% (3/3), done.\u001b[K\n",
            "remote: Total 3 (delta 0), reused 0 (delta 0), pack-reused 0\u001b[K\n",
            "Unpacking objects:  33% (1/3)   \rUnpacking objects:  66% (2/3)   \rUnpacking objects: 100% (3/3)   \rUnpacking objects: 100% (3/3), done.\n"
          ],
          "name": "stdout"
        }
      ]
    },
    {
      "cell_type": "code",
      "metadata": {
        "id": "KEh3FzEtiIuL",
        "colab_type": "code",
        "colab": {}
      },
      "source": [
        "import matplotlib.pyplot as plt\n",
        "import random\n",
        "import numpy as np"
      ],
      "execution_count": 0,
      "outputs": []
    },
    {
      "cell_type": "code",
      "metadata": {
        "id": "S7t_puQNou-7",
        "colab_type": "code",
        "colab": {
          "base_uri": "https://localhost:8080/",
          "height": 265
        },
        "outputId": "8005b484-82f3-4e7d-e8af-91d60308b497"
      },
      "source": [
        "x = range(-10, 10)\n",
        "y = [2 * j for j in x]\n",
        "\n",
        "randomSet = []\n",
        "xSet = []\n",
        "ySet = []\n",
        "\n",
        "for i in x:\n",
        "  ran_num = random.randint(-5, 5)\n",
        "  y2 = 2 * i + ran_num\n",
        "  randomSet.append([i, y2])\n",
        "  xSet.append([i])\n",
        "  ySet.append([y2])\n",
        "  plt.scatter(i, y2, c = 'k')\n",
        "\n",
        "\n",
        "plt.plot(x, y,'b')\n",
        "plt.show()"
      ],
      "execution_count": 45,
      "outputs": [
        {
          "output_type": "display_data",
          "data": {
            "image/png": "[encoded data removed]",
            "text/plain": [
              "<Figure size 432x288 with 1 Axes>"
            ]
          },
          "metadata": {
            "tags": []
          }
        }
      ]
    },
    {
      "cell_type": "markdown",
      "metadata": {
        "id": "mSw_J9Yx6wXK",
        "colab_type": "text"
      },
      "source": [
        "assignment 02-01"
      ]
    },
    {
      "cell_type": "code",
      "metadata": {
        "id": "Ywpq7ym6suzr",
        "colab_type": "code",
        "colab": {
          "base_uri": "https://localhost:8080/",
          "height": 89
        },
        "outputId": "61040752-6536-4d1f-8440-c08822cdb407"
      },
      "source": [
        "print(randomSet)\n",
        "print(xSet)\n",
        "print(ySet)"
      ],
      "execution_count": 47,
      "outputs": [
        {
          "output_type": "stream",
          "text": [
            "[[-10, -18], [-9, -17], [-8, -17], [-7, -15], [-6, -10], [-5, -7], [-4, -10], [-3, -10], [-2, 0], [-1, 0], [0, 1], [1, -3], [2, 0], [3, 7], [4, 7], [5, 13], [6, 17], [7, 10], [8, 15], [9, 20]]\n",
            "[[-10], [-9], [-8], [-7], [-6], [-5], [-4], [-3], [-2], [-1], [0], [1], [2], [3], [4], [5], [6], [7], [8], [9]]\n",
            "[[-18], [-17], [-17], [-15], [-10], [-7], [-10], [-10], [0], [0], [1], [-3], [0], [7], [7], [13], [17], [10], [15], [20]]\n"
          ],
          "name": "stdout"
        }
      ]
    },
    {
      "cell_type": "code",
      "metadata": {
        "id": "CkHXPw2o1C4J",
        "colab_type": "code",
        "colab": {
          "base_uri": "https://localhost:8080/",
          "height": 34
        },
        "outputId": "211d0ef3-ec17-4b6a-adce-81d129728992"
      },
      "source": [
        "from sklearn.linear_model import LinearRegression\n",
        "model = LinearRegression()\n",
        "\n",
        "model.fit(X=xSet, y=ySet)"
      ],
      "execution_count": 50,
      "outputs": [
        {
          "output_type": "execute_result",
          "data": {
            "text/plain": [
              "LinearRegression(copy_X=True, fit_intercept=True, n_jobs=None, normalize=False)"
            ]
          },
          "metadata": {
            "tags": []
          },
          "execution_count": 50
        }
      ]
    },
    {
      "cell_type": "code",
      "metadata": {
        "id": "p-NoOn5J5510",
        "colab_type": "code",
        "colab": {
          "base_uri": "https://localhost:8080/",
          "height": 282
        },
        "outputId": "e7708647-b08f-4d8f-f24c-cb0f3a6eae5f"
      },
      "source": [
        "for i in randomSet:\n",
        "  plt.scatter(i[0], i[1], c = 'k')\n",
        "  \n",
        "plt.plot(xSet, model.predict(xSet), c = 'r')"
      ],
      "execution_count": 54,
      "outputs": [
        {
          "output_type": "execute_result",
          "data": {
            "text/plain": [
              "[<matplotlib.lines.Line2D at 0x7f12455099e8>]"
            ]
          },
          "metadata": {
            "tags": []
          },
          "execution_count": 54
        },
        {
          "output_type": "display_data",
          "data": {
            "image/png": "[encoded data removed]",
            "text/plain": [
              "<Figure size 432x288 with 1 Axes>"
            ]
          },
          "metadata": {
            "tags": []
          }
        }
      ]
    },
    {
      "cell_type": "code",
      "metadata": {
        "id": "Yli9D-LuO4Hw",
        "colab_type": "code",
        "colab": {
          "base_uri": "https://localhost:8080/",
          "height": 282
        },
        "outputId": "5874421c-f6d3-4d41-e37b-907016355534"
      },
      "source": [
        "x = np.arange(-10, 10)\n",
        "f = x ** 2\n",
        "\n",
        "plt.plot(x, f)"
      ],
      "execution_count": 61,
      "outputs": [
        {
          "output_type": "execute_result",
          "data": {
            "text/plain": [
              "[<matplotlib.lines.Line2D at 0x7f11c7ed0dd8>]"
            ]
          },
          "metadata": {
            "tags": []
          },
          "execution_count": 61
        },
        {
          "output_type": "display_data",
          "data": {
            "image/png": "[encoded data removed]",
            "text/plain": [
              "<Figure size 432x288 with 1 Axes>"
            ]
          },
          "metadata": {
            "tags": []
          }
        }
      ]
    },
    {
      "cell_type": "markdown",
      "metadata": {
        "id": "cZPX_GcU60zS",
        "colab_type": "text"
      },
      "source": [
        "assignment 02-02"
      ]
    },
    {
      "cell_type": "code",
      "metadata": {
        "id": "Ijr-XdqiM7tZ",
        "colab_type": "code",
        "colab": {
          "base_uri": "https://localhost:8080/",
          "height": 265
        },
        "outputId": "7853e2e1-9fee-49e4-df2f-3393f1492989"
      },
      "source": [
        "x = np.arange(-10, 10)\n",
        "f = x ** 2\n",
        "\n",
        "\n",
        "x1 = 10\n",
        "X = []\n",
        "Y = []\n",
        "rate = 0.1\n",
        "\n",
        "for i in range(20):\n",
        "  x0 = x1\n",
        "  x1 = x0 - rate * 2 * x0\n",
        "  X.append(x1)\n",
        "  Y.append(x1 ** 2)\n",
        "\n",
        "plt.plot(x, f, c = 'b')\n",
        "plt.scatter(X, Y, c = 'k')\n",
        "plt.show()"
      ],
      "execution_count": 62,
      "outputs": [
        {
          "output_type": "display_data",
          "data": {
            "image/png": "[encoded data removed]",
            "text/plain": [
              "<Figure size 432x288 with 1 Axes>"
            ]
          },
          "metadata": {
            "tags": []
          }
        }
      ]
    },
    {
      "cell_type": "markdown",
      "metadata": {
        "id": "azoTYX69O_2m",
        "colab_type": "text"
      },
      "source": [
        "Plotting the energy values"
      ]
    }
  ]
}